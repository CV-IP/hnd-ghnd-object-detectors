{
 "cells": [
  {
   "cell_type": "markdown",
   "metadata": {},
   "source": [
    "# 1. Preparation"
   ]
  },
  {
   "cell_type": "code",
   "execution_count": 1,
   "metadata": {},
   "outputs": [],
   "source": [
    "%load_ext autoreload\n",
    "%autoreload 2"
   ]
  },
  {
   "cell_type": "code",
   "execution_count": 2,
   "metadata": {},
   "outputs": [],
   "source": [
    "import torch\n",
    "from IPython.display import HTML, display\n",
    "from myutils.pytorch import module_util\n",
    "from models import get_model\n",
    "from models.org import rcnn"
   ]
  },
  {
   "cell_type": "markdown",
   "metadata": {},
   "source": [
    "# 2. Functions to compare I/O shapes"
   ]
  },
  {
   "cell_type": "code",
   "execution_count": 3,
   "metadata": {},
   "outputs": [],
   "source": [
    "def check_if_shape_match(xt, xs):\n",
    "    if type(xt) != type(xs):\n",
    "        return False\n",
    "    elif isinstance(xt, dict):\n",
    "        if xt.keys() != xs.keys():\n",
    "            return False\n",
    "        for t_value, s_value in zip(xt.values(), xs.values()):\n",
    "            if not check_if_shape_match(t_value, s_value):\n",
    "                return False\n",
    "        return True\n",
    "    elif isinstance(xt, (list, tuple)):\n",
    "        for t_value, s_value in zip(xt, xs):\n",
    "            if not check_if_shape_match(t_value, s_value):\n",
    "                return False\n",
    "        return True\n",
    "    elif isinstance(xt, torch.Tensor):\n",
    "        return xt.shape == xs.shape\n",
    "    return xt == xs\n",
    "\n",
    "\n",
    "def check_if_io_shape_match(teacher_ios, student_ios):\n",
    "    input_flag = True\n",
    "    output_flag = True\n",
    "    for (teacher_input, teacher_output), (student_input, student_output) in zip(teacher_ios, student_ios):\n",
    "        if not check_if_shape_match(teacher_input, student_input):\n",
    "            input_flag = False\n",
    "            \n",
    "        if not check_if_shape_match(teacher_output, student_output):\n",
    "            output_flag = False\n",
    "        \n",
    "        if input_flag == output_flag and not input_flag:\n",
    "            return input_flag, output_flag\n",
    "    return input_flag, output_flag\n",
    "\n",
    "\n",
    "def convert2shape(x):\n",
    "    if isinstance(x, torch.Tensor):\n",
    "        return x.shape\n",
    "    elif isinstance(x, dict):\n",
    "        y = dict()\n",
    "        for key, value in x.items():\n",
    "            y[key] = convert2shape(value)\n",
    "        return y\n",
    "    elif isinstance(x, (list, tuple)):\n",
    "        is_list = isinstance(x, list)\n",
    "        return [convert2shape(z) for z in x] if is_list else tuple([convert2shape(z) for z in x])\n",
    "    return x\n",
    "\n",
    "\n",
    "def extract_if_single(x):\n",
    "    if isinstance(x, (list, tuple)) and len(x) == 1 and isinstance(x[0], torch.Tensor):\n",
    "        return x[0]\n",
    "    return x\n",
    "\n",
    "\n",
    "def convert2str(teacher_ios, student_ios):\n",
    "    teacher_input_list, teacher_output_list = list(), list()\n",
    "    student_input_list, student_output_list = list(), list()\n",
    "    for (teacher_input, teacher_output), (student_input, student_output) in zip(teacher_ios, student_ios):\n",
    "        teacher_input_list.append(extract_if_single(teacher_input))\n",
    "        teacher_output_list.append(extract_if_single(teacher_output))\n",
    "        student_input_list.append(extract_if_single(student_input))\n",
    "        student_output_list.append(extract_if_single(student_output))\n",
    "    return convert2shape(teacher_input_list), convert2shape(student_input_list), convert2shape(teacher_output_list), convert2shape(student_output_list)\n",
    "\n",
    "\n",
    "def build_header(header_list=['Teacher path', 'Student Path', 'Input shape', 'Output shape']):\n",
    "    multi_column_tag = ''.join(['<td colspan=\"3\" style=\"text-align:center;\">{}</td>'.format(title) for title in header_list[-2:]])\n",
    "    return '<td style=\"text-align:center\">' + '</td><td style=\"text-align:center\">'.join(header_list[:-2]) + '</td>' + multi_column_tag\n",
    "\n",
    "\n",
    "def build_color_row(flag, teacher_sample, student_sample, match_color, error_color):\n",
    "    color = match_color if flag else error_color\n",
    "    color_css = 'style=\"background-color:{};\"'\n",
    "    ext_css = 'style=\"background-color:{};white-space: nowrap;\"'\n",
    "    return ''.join(['<td {}>{}</td>'.format(color_css.format(color) if i != 1 else ext_css.format(color), x) for i, x in enumerate([teacher_sample, '<->', student_sample])])\n",
    "\n",
    "\n",
    "def build_row(row, match_color='green', error_color='red'):\n",
    "    input_tuple, output_tuple = row[-2:]\n",
    "    input_str = build_color_row(*input_tuple, match_color, error_color)\n",
    "    output_str = build_color_row(*output_tuple, match_color, error_color)\n",
    "    return '<td>' + '</td><td>'.join(row[:-2]) + '</td>' + input_str + output_str\n",
    "    \n",
    "\n",
    "def compare_io_shapes(sample_batch, teacher_model, student_model, ts_path_dict):\n",
    "    teacher_model.eval()\n",
    "    student_model.eval()\n",
    "    teacher_paths = list(ts_path_dict.keys())\n",
    "    student_paths = list(ts_path_dict.values())\n",
    "    teacher_io_dict = module_util.extract_intermediate_io(sample_batch, teacher_model, teacher_paths)\n",
    "    student_io_dict = module_util.extract_intermediate_io(sample_batch, student_model, student_paths)\n",
    "    row_list = []\n",
    "    for teacher_path, teacher_ios in teacher_io_dict.items():\n",
    "        student_path = ts_path_dict[teacher_path]\n",
    "        student_ios = student_io_dict[student_path]\n",
    "        input_flag, output_flag = check_if_io_shape_match(teacher_ios, student_ios)\n",
    "        teacher_input_str, student_input_str, teacher_output_str, student_output_str = convert2str(teacher_ios, student_ios)\n",
    "        row_list.append([teacher_path, student_path, (input_flag, teacher_input_str, student_input_str), (output_flag, teacher_output_str, student_output_str)])\n",
    "        \n",
    "    header = build_header()\n",
    "    html_tag = '<table><tr style=\"font-weight:bold\">{}</tr><tr>{}</tr></table>'.format(header, '</tr><tr>'.join([build_row(row) for row in row_list]))\n",
    "    display(HTML(html_tag))"
   ]
  },
  {
   "cell_type": "markdown",
   "metadata": {},
   "source": [
    "# 3. Faster R-CNN"
   ]
  },
  {
   "cell_type": "code",
   "execution_count": 4,
   "metadata": {},
   "outputs": [],
   "source": [
    "faster_rcnn_resnet18 = rcnn.get_model('faster_rcnn', False, 'resnet18', False)\n",
    "faster_rcnn_resnet34 = rcnn.get_model('faster_rcnn', False, 'resnet34', False)\n",
    "faster_rcnn_resnet50 = rcnn.get_model('faster_rcnn', False, 'resnet50', False)"
   ]
  },
  {
   "cell_type": "markdown",
   "metadata": {},
   "source": [
    "## 3.1 ResNet-34 vs. ResNet-18"
   ]
  },
  {
   "cell_type": "code",
   "execution_count": 5,
   "metadata": {
    "scrolled": true
   },
   "outputs": [
    {
     "data": {
      "text/html": [
       "<table><tr style=\"font-weight:bold\"><td style=\"text-align:center\">Teacher path</td><td style=\"text-align:center\">Student Path</td><td colspan=\"3\" style=\"text-align:center;\">Input shape</td><td colspan=\"3\" style=\"text-align:center;\">Output shape</td></tr><tr><td>backbone.fpn</td><td>backbone.fpn</td><td style=\"background-color:green;\">[({0: torch.Size([1, 64, 200, 304]), 1: torch.Size([1, 128, 100, 152]), 2: torch.Size([1, 256, 50, 76]), 3: torch.Size([1, 512, 25, 38])},)]</td><td style=\"background-color:green;white-space: nowrap;\"><-></td><td style=\"background-color:green;\">[({0: torch.Size([1, 64, 200, 304]), 1: torch.Size([1, 128, 100, 152]), 2: torch.Size([1, 256, 50, 76]), 3: torch.Size([1, 512, 25, 38])},)]</td><td style=\"background-color:green;\">[{0: torch.Size([1, 256, 200, 304]), 1: torch.Size([1, 256, 100, 152]), 2: torch.Size([1, 256, 50, 76]), 3: torch.Size([1, 256, 25, 38]), 'pool': torch.Size([1, 256, 13, 19])}]</td><td style=\"background-color:green;white-space: nowrap;\"><-></td><td style=\"background-color:green;\">[{0: torch.Size([1, 256, 200, 304]), 1: torch.Size([1, 256, 100, 152]), 2: torch.Size([1, 256, 50, 76]), 3: torch.Size([1, 256, 25, 38]), 'pool': torch.Size([1, 256, 13, 19])}]</td></tr><tr><td>roi_heads.box_roi_pool</td><td>roi_heads.box_roi_pool</td><td style=\"background-color:green;\">[({0: torch.Size([1, 256, 200, 304]), 1: torch.Size([1, 256, 100, 152]), 2: torch.Size([1, 256, 50, 76]), 3: torch.Size([1, 256, 25, 38]), 'pool': torch.Size([1, 256, 13, 19])}, [torch.Size([1000, 4])], [(800, 1200)])]</td><td style=\"background-color:green;white-space: nowrap;\"><-></td><td style=\"background-color:green;\">[({0: torch.Size([1, 256, 200, 304]), 1: torch.Size([1, 256, 100, 152]), 2: torch.Size([1, 256, 50, 76]), 3: torch.Size([1, 256, 25, 38]), 'pool': torch.Size([1, 256, 13, 19])}, [torch.Size([1000, 4])], [(800, 1200)])]</td><td style=\"background-color:green;\">[torch.Size([1000, 256, 7, 7])]</td><td style=\"background-color:green;white-space: nowrap;\"><-></td><td style=\"background-color:green;\">[torch.Size([1000, 256, 7, 7])]</td></tr><tr><td>roi_heads.box_predictor</td><td>roi_heads.box_predictor</td><td style=\"background-color:green;\">[torch.Size([1000, 1024])]</td><td style=\"background-color:green;white-space: nowrap;\"><-></td><td style=\"background-color:green;\">[torch.Size([1000, 1024])]</td><td style=\"background-color:green;\">[(torch.Size([1000, 91]), torch.Size([1000, 364]))]</td><td style=\"background-color:green;white-space: nowrap;\"><-></td><td style=\"background-color:green;\">[(torch.Size([1000, 91]), torch.Size([1000, 364]))]</td></tr></table>"
      ],
      "text/plain": [
       "<IPython.core.display.HTML object>"
      ]
     },
     "metadata": {},
     "output_type": "display_data"
    }
   ],
   "source": [
    "path_dict = {'backbone.fpn': 'backbone.fpn',\n",
    "             'roi_heads.box_roi_pool': 'roi_heads.box_roi_pool',\n",
    "             'roi_heads.box_predictor': 'roi_heads.box_predictor'}\n",
    "compare_io_shapes(torch.rand(1, 3, 400, 600), faster_rcnn_resnet34, faster_rcnn_resnet18, path_dict)"
   ]
  },
  {
   "cell_type": "markdown",
   "metadata": {},
   "source": [
    "## 3.2 ResNet-50 vs. ResNet-18"
   ]
  },
  {
   "cell_type": "code",
   "execution_count": 6,
   "metadata": {
    "scrolled": true
   },
   "outputs": [
    {
     "data": {
      "text/html": [
       "<table><tr style=\"font-weight:bold\"><td style=\"text-align:center\">Teacher path</td><td style=\"text-align:center\">Student Path</td><td colspan=\"3\" style=\"text-align:center;\">Input shape</td><td colspan=\"3\" style=\"text-align:center;\">Output shape</td></tr><tr><td>backbone.fpn</td><td>backbone.fpn</td><td style=\"background-color:red;\">[({0: torch.Size([1, 256, 200, 304]), 1: torch.Size([1, 512, 100, 152]), 2: torch.Size([1, 1024, 50, 76]), 3: torch.Size([1, 2048, 25, 38])},)]</td><td style=\"background-color:red;white-space: nowrap;\"><-></td><td style=\"background-color:red;\">[({0: torch.Size([1, 64, 200, 304]), 1: torch.Size([1, 128, 100, 152]), 2: torch.Size([1, 256, 50, 76]), 3: torch.Size([1, 512, 25, 38])},)]</td><td style=\"background-color:green;\">[{0: torch.Size([1, 256, 200, 304]), 1: torch.Size([1, 256, 100, 152]), 2: torch.Size([1, 256, 50, 76]), 3: torch.Size([1, 256, 25, 38]), 'pool': torch.Size([1, 256, 13, 19])}]</td><td style=\"background-color:green;white-space: nowrap;\"><-></td><td style=\"background-color:green;\">[{0: torch.Size([1, 256, 200, 304]), 1: torch.Size([1, 256, 100, 152]), 2: torch.Size([1, 256, 50, 76]), 3: torch.Size([1, 256, 25, 38]), 'pool': torch.Size([1, 256, 13, 19])}]</td></tr><tr><td>roi_heads.box_roi_pool</td><td>roi_heads.box_roi_pool</td><td style=\"background-color:green;\">[({0: torch.Size([1, 256, 200, 304]), 1: torch.Size([1, 256, 100, 152]), 2: torch.Size([1, 256, 50, 76]), 3: torch.Size([1, 256, 25, 38]), 'pool': torch.Size([1, 256, 13, 19])}, [torch.Size([1000, 4])], [(800, 1200)])]</td><td style=\"background-color:green;white-space: nowrap;\"><-></td><td style=\"background-color:green;\">[({0: torch.Size([1, 256, 200, 304]), 1: torch.Size([1, 256, 100, 152]), 2: torch.Size([1, 256, 50, 76]), 3: torch.Size([1, 256, 25, 38]), 'pool': torch.Size([1, 256, 13, 19])}, [torch.Size([1000, 4])], [(800, 1200)])]</td><td style=\"background-color:green;\">[torch.Size([1000, 256, 7, 7])]</td><td style=\"background-color:green;white-space: nowrap;\"><-></td><td style=\"background-color:green;\">[torch.Size([1000, 256, 7, 7])]</td></tr><tr><td>roi_heads.box_predictor</td><td>roi_heads.box_predictor</td><td style=\"background-color:green;\">[torch.Size([1000, 1024])]</td><td style=\"background-color:green;white-space: nowrap;\"><-></td><td style=\"background-color:green;\">[torch.Size([1000, 1024])]</td><td style=\"background-color:green;\">[(torch.Size([1000, 91]), torch.Size([1000, 364]))]</td><td style=\"background-color:green;white-space: nowrap;\"><-></td><td style=\"background-color:green;\">[(torch.Size([1000, 91]), torch.Size([1000, 364]))]</td></tr></table>"
      ],
      "text/plain": [
       "<IPython.core.display.HTML object>"
      ]
     },
     "metadata": {},
     "output_type": "display_data"
    }
   ],
   "source": [
    "path_dict = {'backbone.fpn': 'backbone.fpn',\n",
    "             'roi_heads.box_roi_pool': 'roi_heads.box_roi_pool',\n",
    "             'roi_heads.box_predictor': 'roi_heads.box_predictor'}\n",
    "compare_io_shapes(torch.rand(1, 3, 400, 600), faster_rcnn_resnet50, faster_rcnn_resnet18, path_dict)"
   ]
  },
  {
   "cell_type": "markdown",
   "metadata": {},
   "source": [
    "## 3.3 ResNet-50 vs. ResNet-34"
   ]
  },
  {
   "cell_type": "code",
   "execution_count": 7,
   "metadata": {},
   "outputs": [
    {
     "data": {
      "text/html": [
       "<table><tr style=\"font-weight:bold\"><td style=\"text-align:center\">Teacher path</td><td style=\"text-align:center\">Student Path</td><td colspan=\"3\" style=\"text-align:center;\">Input shape</td><td colspan=\"3\" style=\"text-align:center;\">Output shape</td></tr><tr><td>backbone.fpn</td><td>backbone.fpn</td><td style=\"background-color:red;\">[({0: torch.Size([1, 256, 200, 304]), 1: torch.Size([1, 512, 100, 152]), 2: torch.Size([1, 1024, 50, 76]), 3: torch.Size([1, 2048, 25, 38])},)]</td><td style=\"background-color:red;white-space: nowrap;\"><-></td><td style=\"background-color:red;\">[({0: torch.Size([1, 64, 200, 304]), 1: torch.Size([1, 128, 100, 152]), 2: torch.Size([1, 256, 50, 76]), 3: torch.Size([1, 512, 25, 38])},)]</td><td style=\"background-color:green;\">[{0: torch.Size([1, 256, 200, 304]), 1: torch.Size([1, 256, 100, 152]), 2: torch.Size([1, 256, 50, 76]), 3: torch.Size([1, 256, 25, 38]), 'pool': torch.Size([1, 256, 13, 19])}]</td><td style=\"background-color:green;white-space: nowrap;\"><-></td><td style=\"background-color:green;\">[{0: torch.Size([1, 256, 200, 304]), 1: torch.Size([1, 256, 100, 152]), 2: torch.Size([1, 256, 50, 76]), 3: torch.Size([1, 256, 25, 38]), 'pool': torch.Size([1, 256, 13, 19])}]</td></tr><tr><td>roi_heads.box_roi_pool</td><td>roi_heads.box_roi_pool</td><td style=\"background-color:green;\">[({0: torch.Size([1, 256, 200, 304]), 1: torch.Size([1, 256, 100, 152]), 2: torch.Size([1, 256, 50, 76]), 3: torch.Size([1, 256, 25, 38]), 'pool': torch.Size([1, 256, 13, 19])}, [torch.Size([1000, 4])], [(800, 1200)])]</td><td style=\"background-color:green;white-space: nowrap;\"><-></td><td style=\"background-color:green;\">[({0: torch.Size([1, 256, 200, 304]), 1: torch.Size([1, 256, 100, 152]), 2: torch.Size([1, 256, 50, 76]), 3: torch.Size([1, 256, 25, 38]), 'pool': torch.Size([1, 256, 13, 19])}, [torch.Size([1000, 4])], [(800, 1200)])]</td><td style=\"background-color:green;\">[torch.Size([1000, 256, 7, 7])]</td><td style=\"background-color:green;white-space: nowrap;\"><-></td><td style=\"background-color:green;\">[torch.Size([1000, 256, 7, 7])]</td></tr><tr><td>roi_heads.box_predictor</td><td>roi_heads.box_predictor</td><td style=\"background-color:green;\">[torch.Size([1000, 1024])]</td><td style=\"background-color:green;white-space: nowrap;\"><-></td><td style=\"background-color:green;\">[torch.Size([1000, 1024])]</td><td style=\"background-color:green;\">[(torch.Size([1000, 91]), torch.Size([1000, 364]))]</td><td style=\"background-color:green;white-space: nowrap;\"><-></td><td style=\"background-color:green;\">[(torch.Size([1000, 91]), torch.Size([1000, 364]))]</td></tr></table>"
      ],
      "text/plain": [
       "<IPython.core.display.HTML object>"
      ]
     },
     "metadata": {},
     "output_type": "display_data"
    }
   ],
   "source": [
    "path_dict = {'backbone.fpn': 'backbone.fpn',\n",
    "             'roi_heads.box_roi_pool': 'roi_heads.box_roi_pool',\n",
    "             'roi_heads.box_predictor': 'roi_heads.box_predictor'}\n",
    "compare_io_shapes(torch.rand(1, 3, 400, 600), faster_rcnn_resnet50, faster_rcnn_resnet34, path_dict)"
   ]
  }
 ],
 "metadata": {
  "kernelspec": {
   "display_name": "Python 3",
   "language": "python",
   "name": "python3"
  },
  "language_info": {
   "codemirror_mode": {
    "name": "ipython",
    "version": 3
   },
   "file_extension": ".py",
   "mimetype": "text/x-python",
   "name": "python",
   "nbconvert_exporter": "python",
   "pygments_lexer": "ipython3",
   "version": "3.6.8"
  }
 },
 "nbformat": 4,
 "nbformat_minor": 2
}
